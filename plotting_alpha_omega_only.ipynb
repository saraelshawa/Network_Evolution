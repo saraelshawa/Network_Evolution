{
 "cells": [
  {
   "cell_type": "code",
   "execution_count": 9,
   "metadata": {},
   "outputs": [],
   "source": [
    "library(dplyr)\n",
    "library(ggplot2)\n",
    "library(readr)\n",
    "library(magrittr)"
   ]
  },
  {
   "cell_type": "code",
   "execution_count": 10,
   "metadata": {},
   "outputs": [
    {
     "name": "stderr",
     "output_type": "stream",
     "text": [
      "Warning message:\n",
      "“Missing column names filled in: 'X1' [1]”Parsed with column specification:\n",
      "cols(\n",
      "  X1 = col_integer(),\n",
      "  random_omega_A = col_double(),\n",
      "  random_alpha = col_double(),\n",
      "  random_lambda = col_double(),\n",
      "  random_selected_divergence = col_double()\n",
      ")\n"
     ]
    }
   ],
   "source": [
    "random.metrics <- read_delim('random_conn_all_measures.csv', delim = ',', col_names = TRUE);\n",
    "\n",
    "# betweennesscentrality=rep(c(\"top 10%\", \"bottom 10%\"), each=2)\n",
    "# , \n",
    "#                                   times=2)"
   ]
  },
  {
   "cell_type": "code",
   "execution_count": 24,
   "metadata": {},
   "outputs": [],
   "source": [
    "my.summary<-data.frame(value=c(mean(random.metrics$random_omega_A), \n",
    "                               mean(random.metrics$random_alpha)),\n",
    "                         sd=c(sd(random.metrics$random_omega_A), \n",
    "                               sd(random.metrics$random_alpha)),\n",
    "                         metric=rep(c(\"omega_A\", \"alpha\"), \n",
    "                                  times=2))\n"
   ]
  },
  {
   "cell_type": "code",
   "execution_count": 27,
   "metadata": {},
   "outputs": [],
   "source": [
    "my.summary$randomCI <- c(0.17333810057978014,  0.6558058661109955, 0.19092593902418023, 0.6896603913147471)"
   ]
  },
  {
   "cell_type": "code",
   "execution_count": 28,
   "metadata": {},
   "outputs": [
    {
     "data": {
      "text/html": [
       "<table>\n",
       "<thead><tr><th scope=col>value</th><th scope=col>sd</th><th scope=col>metric</th><th scope=col>randomCI</th></tr></thead>\n",
       "<tbody>\n",
       "\t<tr><td>0.1821320 </td><td>0.06338511</td><td>omega_A   </td><td>0.1733381 </td></tr>\n",
       "\t<tr><td>0.6727331 </td><td>0.12200890</td><td>alpha     </td><td>0.6558059 </td></tr>\n",
       "\t<tr><td>0.1821320 </td><td>0.06338511</td><td>omega_A   </td><td>0.1909259 </td></tr>\n",
       "\t<tr><td>0.6727331 </td><td>0.12200890</td><td>alpha     </td><td>0.6896604 </td></tr>\n",
       "</tbody>\n",
       "</table>\n"
      ],
      "text/latex": [
       "\\begin{tabular}{r|llll}\n",
       " value & sd & metric & randomCI\\\\\n",
       "\\hline\n",
       "\t 0.1821320  & 0.06338511 & omega\\_A  & 0.1733381 \\\\\n",
       "\t 0.6727331  & 0.12200890 & alpha      & 0.6558059 \\\\\n",
       "\t 0.1821320  & 0.06338511 & omega\\_A  & 0.1909259 \\\\\n",
       "\t 0.6727331  & 0.12200890 & alpha      & 0.6896604 \\\\\n",
       "\\end{tabular}\n"
      ],
      "text/markdown": [
       "\n",
       "value | sd | metric | randomCI | \n",
       "|---|---|---|---|\n",
       "| 0.1821320  | 0.06338511 | omega_A    | 0.1733381  | \n",
       "| 0.6727331  | 0.12200890 | alpha      | 0.6558059  | \n",
       "| 0.1821320  | 0.06338511 | omega_A    | 0.1909259  | \n",
       "| 0.6727331  | 0.12200890 | alpha      | 0.6896604  | \n",
       "\n",
       "\n"
      ],
      "text/plain": [
       "  value     sd         metric  randomCI \n",
       "1 0.1821320 0.06338511 omega_A 0.1733381\n",
       "2 0.6727331 0.12200890 alpha   0.6558059\n",
       "3 0.1821320 0.06338511 omega_A 0.1909259\n",
       "4 0.6727331 0.12200890 alpha   0.6896604"
      ]
     },
     "metadata": {},
     "output_type": "display_data"
    }
   ],
   "source": [
    "my.summary"
   ]
  },
  {
   "cell_type": "code",
   "execution_count": 33,
   "metadata": {},
   "outputs": [],
   "source": [
    "my.summary<-my.summary[order(my.summary$metric)]"
   ]
  },
  {
   "cell_type": "code",
   "execution_count": 37,
   "metadata": {},
   "outputs": [
    {
     "data": {},
     "metadata": {},
     "output_type": "display_data"
    },
    {
     "data": {
      "image/png": "[encoded data removed]",
      "text/plain": [
       "plot without title"
      ]
     },
     "metadata": {},
     "output_type": "display_data",
     "source": "R display func"
    }
   ],
   "source": [
    "my_font = 'Helvetica'\n",
    "my.plot<-ggplot(data=my.summary, aes(value)) +\n",
    "geom_point()  +\n",
    "facet_grid(metric~., scales = \"free_y\") +\n",
    "geom_errorbar(data=my.summary,\n",
    "              aes(ymin=my.summary$randomCI)) +\n",
    "theme_bw() +\n",
    "  theme(panel.grid.major = element_blank(), panel.grid.minor = element_blank(),\n",
    "        panel.border = element_rect(colour=\"black\"), \n",
    "        strip.background = element_rect(colour=\"black\", fill=\"white\"),\n",
    "        axis.text.x=element_text(size=12, family=my_font), axis.title.x=element_text(size=14, family=my_font,vjust=0.01),\n",
    "        axis.text.y=element_text(size=12, family=my_font), axis.title.y=element_text(size=14, family=my_font))\n",
    "my.plot\n",
    "\n",
    "# ggsave(plot=my.plot, \"./random_alpha_omega_a_conn.png\")"
   ]
  },
  {
   "cell_type": "code",
   "execution_count": null,
   "metadata": {},
   "outputs": [],
   "source": [
    "my_font = 'Helvetica'\n",
    "my.plot<-ggplot(data=my.summary, aes(betweennesscentrality, value)) +\n",
    "geom_point()  +\n",
    "facet_grid(metric~., scales = \"free_y\") +\n",
    "geom_errorbar(data=my.summary,\n",
    "              aes(ymin=my.summary$lowerCI, \n",
    "                  ymax=my.summary$upperCI, width=0.2)) +\n",
    "theme_bw() +\n",
    "  theme(panel.grid.major = element_blank(), panel.grid.minor = element_blank(),\n",
    "        panel.border = element_rect(colour=\"black\"), \n",
    "        strip.background = element_rect(colour=\"black\", fill=\"white\"),\n",
    "        axis.text.x=element_text(size=12, family=my_font), axis.title.x=element_text(size=14, family=my_font,vjust=0.01),\n",
    "        axis.text.y=element_text(size=12, family=my_font), axis.title.y=element_text(size=14, family=my_font))\n",
    "my.plot\n",
    "\n",
    "ggsave(plot=my.plot, \"./random_alpha_omega_a_conn.png\")"
   ]
  },
  {
   "cell_type": "code",
   "execution_count": null,
   "metadata": {},
   "outputs": [],
   "source": []
  }
 ],
 "metadata": {
  "kernelspec": {
   "display_name": "R",
   "language": "R",
   "name": "ir"
  },
  "language_info": {
   "codemirror_mode": "r",
   "file_extension": ".r",
   "mimetype": "text/x-r-source",
   "name": "R",
   "pygments_lexer": "r",
   "version": "3.4.1"
  }
 },
 "nbformat": 4,
 "nbformat_minor": 2
}
