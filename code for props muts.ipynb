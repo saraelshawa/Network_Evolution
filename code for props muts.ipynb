{
 "cells": [
  {
   "cell_type": "code",
   "execution_count": 6,
   "metadata": {},
   "outputs": [
    {
     "ename": "NameError",
     "evalue": "name 'file_out_lower' is not defined",
     "output_type": "error",
     "traceback": [
      "\u001b[0;31m---------------------------------------------------------------------------\u001b[0m",
      "\u001b[0;31mNameError\u001b[0m                                 Traceback (most recent call last)",
      "\u001b[0;32m<ipython-input-6-000f1189cc63>\u001b[0m in \u001b[0;36m<module>\u001b[0;34m()\u001b[0m\n\u001b[1;32m     29\u001b[0m \u001b[0;34m\u001b[0m\u001b[0m\n\u001b[1;32m     30\u001b[0m \u001b[0;34m\u001b[0m\u001b[0m\n\u001b[0;32m---> 31\u001b[0;31m \u001b[0mfile_out_lower\u001b[0m\u001b[0;34m.\u001b[0m\u001b[0mclose\u001b[0m\u001b[0;34m(\u001b[0m\u001b[0;34m)\u001b[0m\u001b[0;34m\u001b[0m\u001b[0m\n\u001b[0m",
      "\u001b[0;31mNameError\u001b[0m: name 'file_out_lower' is not defined"
     ]
    }
   ],
   "source": [
    "import re\n",
    "def get_dfe_outputs(filename, t):\n",
    "    with open(filename) as f:\n",
    "        content = f.readlines()[0]\n",
    "        return content\n",
    "        match = re.search('0.000000 1.000000 (\\d+.\\d+) 1.000000 10.000000 (\\d+.\\d+) 10.000000 100.000000 (\\d+.\\d+) 100.000000 -99.000000 (\\d+.\\d+)', content)\n",
    "#         with open(t+'_prop0-1.txt', 'a') as the_file:\n",
    "#             the_file.write(\"{}\\n\".format(match.group(1)))\n",
    "#         with open(t+'_prop1-10.txt', 'a') as the_file:\n",
    "#             the_file.write(\"{}\\n\".format(match.group(2)))\n",
    "#         with open(t+'_prop10-100.txt', 'a') as the_file:\n",
    "#             the_file.write(\"{}\\n\".format(match.group(3)))\n",
    "#         with open(t+'_prop100-.txt', 'a') as the_file:\n",
    "#             the_file.write(\"{}\\n\".format(match.group(4)))\n",
    "#         with open(\"main_file.txt\", 'a') as the_file:\n",
    "#             the_file.write(\"{}\\n\".format(match))\n",
    "\n",
    "\n",
    "import os\n",
    "rootdir = '/scratch/research/projects/chlamydomonas/network_evolution/analysis/dfe/random_bootstrap'\n",
    "i = 0\n",
    "\n",
    "file_out_random = open('dfe_outfile_random.csv', 'w')\n",
    "\n",
    "for subdir, dirs, files in os.walk(rootdir):\n",
    "    for folder in dirs:\n",
    "        if folder.startswith(\"run\"):\n",
    "            file_out_random.write(get_dfe_outputs('/scratch/research/projects/chlamydomonas/network_evolution/analysis/dfe/random_bootstrap/' + folder + '/randomDFE.results.txt', \"random\"))\n",
    "\n",
    "                        \n",
    "# file_out_lower.close()"
   ]
  },
  {
   "cell_type": "code",
   "execution_count": 2,
   "metadata": {},
   "outputs": [
    {
     "ename": "FileNotFoundError",
     "evalue": "[Errno 2] No such file or directory: './upper_prop0-1.txt'",
     "output_type": "error",
     "traceback": [
      "\u001b[0;31m---------------------------------------------------------------------------\u001b[0m",
      "\u001b[0;31mFileNotFoundError\u001b[0m                         Traceback (most recent call last)",
      "\u001b[0;32m<ipython-input-2-5d432008f0c9>\u001b[0m in \u001b[0;36m<module>\u001b[0;34m()\u001b[0m\n\u001b[0;32m----> 1\u001b[0;31m \u001b[0;32mwith\u001b[0m \u001b[0mopen\u001b[0m\u001b[0;34m(\u001b[0m\u001b[0;34m'./upper_prop0-1.txt'\u001b[0m\u001b[0;34m)\u001b[0m \u001b[0;32mas\u001b[0m \u001b[0mf\u001b[0m\u001b[0;34m:\u001b[0m\u001b[0;34m\u001b[0m\u001b[0m\n\u001b[0m\u001b[1;32m      2\u001b[0m     \u001b[0mupper_prop0_1\u001b[0m \u001b[0;34m=\u001b[0m \u001b[0;34m[\u001b[0m\u001b[0mfloat\u001b[0m\u001b[0;34m(\u001b[0m\u001b[0mi\u001b[0m\u001b[0;34m)\u001b[0m \u001b[0;32mfor\u001b[0m \u001b[0mi\u001b[0m \u001b[0;32min\u001b[0m \u001b[0mf\u001b[0m\u001b[0;34m]\u001b[0m\u001b[0;34m\u001b[0m\u001b[0m\n\u001b[1;32m      3\u001b[0m \u001b[0;34m\u001b[0m\u001b[0m\n\u001b[1;32m      4\u001b[0m \u001b[0;32mwith\u001b[0m \u001b[0mopen\u001b[0m\u001b[0;34m(\u001b[0m\u001b[0;34m'./lower_prop0-1.txt'\u001b[0m\u001b[0;34m)\u001b[0m \u001b[0;32mas\u001b[0m \u001b[0mf\u001b[0m\u001b[0;34m:\u001b[0m\u001b[0;34m\u001b[0m\u001b[0m\n\u001b[1;32m      5\u001b[0m     \u001b[0mlower_prop0_1\u001b[0m \u001b[0;34m=\u001b[0m \u001b[0;34m[\u001b[0m\u001b[0mfloat\u001b[0m\u001b[0;34m(\u001b[0m\u001b[0mi\u001b[0m\u001b[0;34m)\u001b[0m \u001b[0;32mfor\u001b[0m \u001b[0mi\u001b[0m \u001b[0;32min\u001b[0m \u001b[0mf\u001b[0m\u001b[0;34m]\u001b[0m\u001b[0;34m\u001b[0m\u001b[0m\n",
      "\u001b[0;31mFileNotFoundError\u001b[0m: [Errno 2] No such file or directory: './upper_prop0-1.txt'"
     ]
    }
   ],
   "source": [
    "with open('./random_prop0-1.txt') as f:\n",
    "    upper_prop0_1 = [float(i) for i in f] \n",
    "\n",
    "with open('./random_prop1-10.txt') as f:\n",
    "    upper_prop1_10 = [float(i) for i in f] \n",
    "\n",
    "with open('./random_prop10-100.txt') as f:\n",
    "    upper_prop10_100 = [float(i) for i in f] \n",
    "\n",
    "with open('./random_prop100-.txt') as f:\n",
    "    upper_prop100_ = [float(i) for i in f] \n"
   ]
  },
  {
   "cell_type": "code",
   "execution_count": 2,
   "metadata": {},
   "outputs": [
    {
     "name": "stdout",
     "output_type": "stream",
     "text": [
      "/scratch/research/projects/chlamydomonas/network_evolution/analysis/dfe/bootstrap\n"
     ]
    }
   ],
   "source": [
    "!pwd"
   ]
  },
  {
   "cell_type": "code",
   "execution_count": 33,
   "metadata": {},
   "outputs": [
    {
     "name": "stdout",
     "output_type": "stream",
     "text": [
      "[0.21142696039603961, 0.2354980693069307, 0.05563133663366336, 0.05412533663366337, 0.07180734653465345, 0.06811457425742574, 0.661134287128713, 0.6422620693069307]\n",
      "[(0.2067022012119675, 0.21615171958011173), (0.23045324698965977, 0.24054289162420164), (0.052308343559471455, 0.05895432970785527), (0.050740515680276196, 0.05751015758705054), (0.06664184089080749, 0.07697285217849942), (0.06298201418178155, 0.07324713433306994), (0.6517240373011176, 0.6705445369563084), (0.6332967943973132, 0.6512273442165483)]\n"
     ]
    },
    {
     "data": {
      "image/png": "[encoded data removed]",
      "text/plain": [
       "<matplotlib.figure.Figure at 0x7fa1ca49b630>"
      ]
     },
     "metadata": {},
     "output_type": "display_data"
    }
   ],
   "source": [
    "import matplotlib.pyplot as plt\n",
    "import numpy as np, scipy.stats as st\n",
    "\n",
    "# fig, axs = plt.subplots(3, 1, sharex=True)\n",
    "# rough estimates of your means; replace by your actual values\n",
    "means = [np.mean(upper_prop0_1), np.mean(lower_prop0_1), np.mean(upper_prop1_10), np.mean(lower_prop1_10), np.mean(upper_prop10_100), np.mean(lower_prop10_100), np.mean(upper_prop100_), np.mean(lower_prop100_)]\n",
    "# the confidence intervals you provided\n",
    "ci = [st.t.interval(0.95, len(upper_prop0_1)-1, loc=np.mean(upper_prop0_1), scale=st.sem(upper_prop0_1)), st.t.interval(0.95, len(lower_prop0_1)-1, loc=np.mean(lower_prop0_1), scale=st.sem(lower_prop0_1)), st.t.interval(0.95, len(upper_prop1_10)-1, loc=np.mean(upper_prop1_10), scale=st.sem(upper_prop1_10)), st.t.interval(0.95, len(lower_prop1_10)-1, loc=np.mean(lower_prop1_10), scale=st.sem(lower_prop1_10)), st.t.interval(0.95, len(upper_prop10_100)-1, loc=np.mean(upper_prop10_100), scale=st.sem(upper_prop10_100)), st.t.interval(0.95, len(lower_prop10_100)-1, loc=np.mean(lower_prop10_100), scale=st.sem(lower_prop10_100)), st.t.interval(0.95, len(upper_prop100_)-1, loc=np.mean(upper_prop100_), scale=st.sem(upper_prop100_)), st.t.interval(0.95, len(lower_prop100_)-1, loc=np.mean(lower_prop100_), scale=st.sem(lower_prop100_))]\n",
    "print(means)\n",
    "print(ci)\n",
    "# get the range of the confidence interval\n",
    "y_r = [means[i] - ci[i][1] for i in range(len(ci))]\n",
    "barlist = plt.bar(range(len(means)), means, yerr=y_r, alpha=0.62, align='center')\n",
    "barlist[0].set_color('r')\n",
    "barlist[2].set_color('r')\n",
    "barlist[4].set_color('r')\n",
    "barlist[6].set_color('r')\n",
    "plt.title(\"between centrality\")\n",
    "plt.xticks(fontsize=5)\n",
    "plt.xticks(range(len(means)), [\"0-1 upper\", \"0-1 lower\", '1-10 upper', '1-10 lower', '10-100 upper', '10-100 lower', '100+ upper', '100+ lower'])\n",
    "# plt.ylim([0.15, 0.3])\n",
    "plt.savefig(\"between_centrality_props.pdf\")\n"
   ]
  }
 ],
 "metadata": {
  "kernelspec": {
   "display_name": "Python 3",
   "language": "python",
   "name": "python3"
  },
  "language_info": {
   "codemirror_mode": {
    "name": "ipython",
    "version": 3
   },
   "file_extension": ".py",
   "mimetype": "text/x-python",
   "name": "python",
   "nbconvert_exporter": "python",
   "pygments_lexer": "ipython3",
   "version": "3.5.1"
  }
 },
 "nbformat": 4,
 "nbformat_minor": 2
}
