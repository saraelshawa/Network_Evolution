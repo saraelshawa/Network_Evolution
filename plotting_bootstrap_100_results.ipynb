{
 "cells": [
  {
   "cell_type": "code",
   "execution_count": 15,
   "metadata": {},
   "outputs": [],
   "source": [
    "with open('./random_omega_A.txt') as f:\n",
    "    random_omega_A = [float(i) for i in f] \n",
    "\n",
    "with open('./random_alpha.txt') as f:\n",
    "    random_alpha = [float(i) for i in f] \n",
    "\n",
    "with open('./random_lambda.txt') as f:\n",
    "    random_lambda = [float(i) for i in f] \n",
    "    \n",
    "with open('./random_selected_divergence.txt') as f:\n",
    "    random_selected_divergence = [float(i) for i in f] \n"
   ]
  },
  {
   "cell_type": "markdown",
   "metadata": {},
   "source": [
    "## omega A"
   ]
  },
  {
   "cell_type": "code",
   "execution_count": 16,
   "metadata": {},
   "outputs": [
    {
     "name": "stdout",
     "output_type": "stream",
     "text": [
      "(0.17333810057978014, 0.19092593902418023)\n",
      "0.18213201980198018\n"
     ]
    }
   ],
   "source": [
    "import numpy as np, scipy.stats as st\n",
    "print(st.t.interval(0.95, len(random_omega_A)-1, loc=np.mean(random_omega_A), scale=st.sem(random_omega_A)))\n",
    "print(np.mean(random_omega_A))"
   ]
  },
  {
   "cell_type": "code",
   "execution_count": 17,
   "metadata": {},
   "outputs": [
    {
     "name": "stdout",
     "output_type": "stream",
     "text": [
      "[0.18213201980198018]\n",
      "[(0.17333810057978014, 0.19092593902418023)]\n"
     ]
    },
    {
     "data": {
      "image/png": "[encoded data removed]",
      "text/plain": [
       "<matplotlib.figure.Figure at 0x7f4fb0db97f0>"
      ]
     },
     "metadata": {},
     "output_type": "display_data"
    }
   ],
   "source": [
    "import matplotlib.pyplot as plt\n",
    "means = [np.mean(random_omega_A)]\n",
    "# the confidence intervals you provided\n",
    "ci = [st.t.interval(0.95, len(random_omega_A)-1, loc=np.mean(random_omega_A), scale=st.sem(random_omega_A))]\n",
    "# get the range of the confidence interval\n",
    "print(means)\n",
    "print(ci)\n",
    "\n",
    "y_r = [means[i] - ci[i][1] for i in range(len(ci))]\n",
    "\n",
    "plt.bar(range(len(means)), means, yerr=y_r, alpha=0.62, align='center')\n",
    "plt.xticks(range(len(means)), [\"random conn\"])\n",
    "plt.ylim([0, 1])\n",
    "plt.ylabel('omega_A')\n",
    "plt.savefig(\"random_omega_A_conn.png\")\n",
    "\n",
    "plt.show()\n"
   ]
  },
  {
   "cell_type": "markdown",
   "metadata": {},
   "source": [
    "## alpha"
   ]
  },
  {
   "cell_type": "code",
   "execution_count": 18,
   "metadata": {},
   "outputs": [
    {
     "name": "stdout",
     "output_type": "stream",
     "text": [
      "[0.6727331287128713]\n",
      "[(0.6558058661109955, 0.6896603913147471)]\n"
     ]
    },
    {
     "data": {
      "image/png": "[encoded data removed]",
      "text/plain": [
       "<matplotlib.figure.Figure at 0x7f4fb0db94a8>"
      ]
     },
     "metadata": {},
     "output_type": "display_data"
    }
   ],
   "source": [
    "means = [np.mean(random_alpha)]\n",
    "ci = [st.t.interval(0.95, len(random_alpha)-1, loc=np.mean(random_alpha), scale=st.sem(random_alpha))]\n",
    "y_r = [means[i] - ci[i][1] for i in range(len(ci))]\n",
    "print(means)\n",
    "print(ci)\n",
    "plt.bar(range(len(means)), means, yerr=y_r, alpha=0.62, align='center')\n",
    "plt.xticks(range(len(means)), [\"random conn\"])\n",
    "plt.ylim([0, 1])\n",
    "plt.ylabel('alpha')\n",
    "plt.savefig(\"random_alpha_conn.png\")\n"
   ]
  },
  {
   "cell_type": "markdown",
   "metadata": {},
   "source": [
    "## lambda"
   ]
  },
  {
   "cell_type": "code",
   "execution_count": 19,
   "metadata": {},
   "outputs": [
    {
     "name": "stdout",
     "output_type": "stream",
     "text": [
      "[0.2193637821782178]\n",
      "[(0.21593391402648696, 0.22279365032994866)]\n"
     ]
    },
    {
     "data": {
      "image/png": "[encoded data removed]",
      "text/plain": [
       "<matplotlib.figure.Figure at 0x7f4fb0b21400>"
      ]
     },
     "metadata": {},
     "output_type": "display_data"
    }
   ],
   "source": [
    "means = [np.mean(random_lambda)]\n",
    "ci = [st.t.interval(0.95, len(random_lambda)-1, loc=np.mean(random_lambda), scale=st.sem(random_lambda))]\n",
    "y_r = [means[i] - ci[i][1] for i in range(len(ci))]\n",
    "print(means)\n",
    "print(ci)\n",
    "\n",
    "plt.bar(range(len(means)), means, yerr=y_r, alpha=0.62, align='center')\n",
    "plt.xticks(range(len(means)), [\"random conn\"])\n",
    "# plt.ylim([0, 1])\n",
    "plt.ylabel('lambda')\n",
    "plt.savefig(\"random_lambda_conn.png\")"
   ]
  },
  {
   "cell_type": "markdown",
   "metadata": {},
   "source": [
    "## selected divergence"
   ]
  },
  {
   "cell_type": "code",
   "execution_count": 20,
   "metadata": {},
   "outputs": [
    {
     "name": "stdout",
     "output_type": "stream",
     "text": [
      "[0.05819551485148515]\n",
      "[(0.05600123604216699, 0.06038979366080331)]\n"
     ]
    },
    {
     "data": {
      "image/png": "[encoded data removed]",
      "text/plain": [
       "<matplotlib.figure.Figure at 0x7f4fb0da9be0>"
      ]
     },
     "metadata": {},
     "output_type": "display_data"
    }
   ],
   "source": [
    "means = [np.mean(random_selected_divergence)]\n",
    "ci = [st.t.interval(0.95, len(random_selected_divergence)-1, loc=np.mean(random_selected_divergence), scale=st.sem(random_selected_divergence))]\n",
    "y_r = [means[i] - ci[i][1] for i in range(len(ci))]\n",
    "plt.bar(range(len(means)), means, yerr=y_r, alpha=0.62, align='center')\n",
    "plt.xticks(range(len(means)), [\"random conn\"])\n",
    "print(means)\n",
    "print(ci)\n",
    "\n",
    "# plt.ylim([0, 0.21])\n",
    "plt.ylabel('selected_divergence')\n",
    "plt.savefig(\"random_selected_divergence_conn.png\")"
   ]
  },
  {
   "cell_type": "code",
   "execution_count": 21,
   "metadata": {},
   "outputs": [],
   "source": [
    "import pandas as pd\n",
    "random_omega_A = pd.Series(random_omega_A)\n",
    "df = pd.DataFrame({})\n",
    "df['random_omega_A'] = random_omega_A.values\n",
    "\n",
    "\n",
    "random_alpha = pd.Series(random_alpha)\n",
    "df['random_alpha'] = random_alpha.values\n",
    "\n",
    "\n",
    "random_lambda = pd.Series(random_lambda)\n",
    "df['random_lambda'] = random_lambda.values\n",
    "\n",
    "\n",
    "random_selected_divergence = pd.Series(random_selected_divergence)\n",
    "df['random_selected_divergence'] = random_selected_divergence.values\n",
    "\n",
    "df.to_csv(\"random_conn_all_measures.csv\")\n",
    "\n",
    "# lower_df = df[['lower_omega_A', 'lower_lambda', 'lower_alpha', 'lower_selected_divergence']]\n",
    "# lower_df.to_csv(\"conn_lower.csv\")\n"
   ]
  },
  {
   "cell_type": "code",
   "execution_count": null,
   "metadata": {},
   "outputs": [],
   "source": []
  },
  {
   "cell_type": "code",
   "execution_count": null,
   "metadata": {},
   "outputs": [],
   "source": []
  }
 ],
 "metadata": {
  "kernelspec": {
   "display_name": "Python 3",
   "language": "python",
   "name": "python3"
  },
  "language_info": {
   "codemirror_mode": {
    "name": "ipython",
    "version": 3
   },
   "file_extension": ".py",
   "mimetype": "text/x-python",
   "name": "python",
   "nbconvert_exporter": "python",
   "pygments_lexer": "ipython3",
   "version": "3.5.1"
  }
 },
 "nbformat": 4,
 "nbformat_minor": 2
}
